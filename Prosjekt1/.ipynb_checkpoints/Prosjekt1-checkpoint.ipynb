{
 "cells": [
  {
   "cell_type": "markdown",
   "metadata": {},
   "source": [
    "# Prosjekt 1 TMA4215\n",
    "### Simen Nygard  MTFYMA\n",
    "\n",
    "## Oppgave 1\n",
    "\n",
    "$\\newcommand{\\rank}[1]{ \\mathcal{Rank} \\left( #1 \\right) }\n",
    "\\newcommand{\\dimker}[1]{ \\mathcal{dim \\ Ker} \\left( #1 \\right) }\n",
    "\\newcommand{\\norm}[1]{ \\lVert #1 \\rVert }\n",
    "\\newcommand{\\abs}[1]{ \\lvert #1 \\rvert }\n",
    "\\newcommand{\\tup}[1]{ \\left( #1 \\right) }\n",
    "\\newcommand{\\defeq}{\\mathrel{\\mathop:}=}\n",
    "$\n",
    "\n",
    "[//]: # (Hacky kommentar)\n",
    "\n",
    "La $u,v \\in \\mathbb{R}^n$ være kolonnevektorer. Da er ytreproduktet av de to vektorene en matrise $A \\in \\mathbb{R}^{n \\times n}$ gitt ved \n",
    "\\begin{equation}\\label{eq:outerProd}\n",
    "A= u \\oplus v = uv^T\n",
    "\\end{equation}\n",
    "\n",
    "Vi ønsker å finne \n",
    "\\begin{equation}\\label{eq:twoNorm}\n",
    "\\lVert A \\rVert_2=\\sqrt{\\rho \\left( A^TA \\right)}=\\sqrt{\\rho \\left( vu^Tuv^T \\right)}=\\norm{u}_2 \\sqrt{\\rho \\left( vv^T \\right)}\n",
    "\\end{equation}\n",
    "der vi ser at $\\rank{vv^T}=1$ som følge av at radene er innbyrdes proporsjonale:\n",
    "\\begin{equation}\\label{eq:}\n",
    "vv^T=\n",
    "\\begin{bmatrix}\n",
    "    v_1 v^T    \\\\\n",
    "    v_2 v^T    \\\\\n",
    "    \\vdots \\\\\n",
    "    v_n v^T   \n",
    "\\end{bmatrix}\n",
    "\\end{equation}\n",
    "\n",
    "Dette må nødvendigvis innebære at $\\dimker{vv^T}=n-1$, slik at $vv^T$ har egenverdi $0$ med geometrisk multiplisitet $\\gamma(0)=n-1$, som betyr at hvertfall $n-1$ av egenverdiene må være lik $0$.  Den siste egenverdien kan finnes ved å la $v$ være egenvektor:  \n",
    "$$vv^Tv=(v \\cdot v) v= \\norm{v}_2^2v$$    \n",
    "slik at $\\norm{v}_2^2>0$ vil være den siste distinkte egenverdien for $v\\ne 0$. Ettersom normen i likning \\eqref{eq:twoNorm} følger ved bruk av vanlig euklidsk vektornorm i det trivielle tilfellet, vil vi videre anta $v\\ne 0$.\n",
    "Ved å benytte at \n",
    "\\begin{equation}\\label{eq:trace}\n",
    "    \\mathcal{Trace}\\left( vv^T \\right)=\\sum_{i=1}^{n} v_i^2=\\sum_{i=1}^{n}\\lambda_i=\\norm{v}_2^2 \n",
    "    = \\mathcal{max}_{\\lambda \\in \\sigma} \\abs{\\lambda}=\\rho \\left( vv^T \\right)\n",
    "\\end{equation}\n",
    "følger det fra likning \\eqref{eq:twoNorm} at\n",
    "\n",
    "\\begin{equation}\n",
    "\\norm{A}_2=\\norm{u}_2\\norm{v}_2\n",
    "\\end{equation}\n",
    "\n",
    "\n",
    "\n"
   ]
  },
  {
   "cell_type": "markdown",
   "metadata": {},
   "source": [
    "## Oppgave 2\n",
    "\n",
    "For en symmetrisk matrise vil $A=A^T$ medføre at $\\rho \\tup{A^TA} =\\rho\\tup{A^2}=\\rho^{\\ 2}\\tup{A}$, slik at \n",
    "\\begin{equation}\\label{eq:absLam}\n",
    "\\norm{A}_2=\\sqrt{\\rho \\tup{A^TA}}=\\abs{\\rho \\tup{A}}= \\mathcal{max}_{\\lambda \\in \\sigma} \\abs{\\lambda} \\defeq \\abs{\\lambda_{max}}\n",
    "\\end{equation}"
   ]
  }
 ],
 "metadata": {
  "author": "m",
  "kernelspec": {
   "display_name": "Python 3",
   "language": "python",
   "name": "python3"
  },
  "language_info": {
   "codemirror_mode": {
    "name": "ipython",
    "version": 3
   },
   "file_extension": ".py",
   "mimetype": "text/x-python",
   "name": "python",
   "nbconvert_exporter": "python",
   "pygments_lexer": "ipython3",
   "version": "3.6.6"
  },
  "latex_envs": {
   "LaTeX_envs_menu_present": true,
   "autoclose": true,
   "autocomplete": true,
   "bibliofile": "biblio.bib",
   "cite_by": "apalike",
   "current_citInitial": 1,
   "eqLabelWithNumbers": true,
   "eqNumInitial": 1,
   "hotkeys": {
    "equation": "Ctrl-E",
    "itemize": "Ctrl-I"
   },
   "labels_anchors": false,
   "latex_user_defs": false,
   "report_style_numbering": false,
   "user_envs_cfg": false
  },
  "toc": {
   "nav_menu": {
    "height": "92px",
    "width": "242px"
   },
   "number_sections": true,
   "sideBar": true,
   "skip_h1_title": false,
   "title_cell": "Table of Contents",
   "title_sidebar": "Contents",
   "toc_cell": false,
   "toc_position": {},
   "toc_section_display": true,
   "toc_window_display": false
  },
  "varInspector": {
   "cols": {
    "lenName": 16,
    "lenType": 16,
    "lenVar": 40
   },
   "kernels_config": {
    "python": {
     "delete_cmd_postfix": "",
     "delete_cmd_prefix": "del ",
     "library": "var_list.py",
     "varRefreshCmd": "print(var_dic_list())"
    },
    "r": {
     "delete_cmd_postfix": ") ",
     "delete_cmd_prefix": "rm(",
     "library": "var_list.r",
     "varRefreshCmd": "cat(var_dic_list()) "
    }
   },
   "types_to_exclude": [
    "module",
    "function",
    "builtin_function_or_method",
    "instance",
    "_Feature"
   ],
   "window_display": false
  }
 },
 "nbformat": 4,
 "nbformat_minor": 2
}
