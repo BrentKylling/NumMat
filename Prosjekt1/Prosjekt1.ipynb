{
 "cells": [
  {
   "cell_type": "markdown",
   "metadata": {},
   "source": [
    "# Prosjekt 1 TMA4215\n",
    "### Simen Nygard  MTFYMA"
   ]
  },
  {
   "cell_type": "code",
   "execution_count": 252,
   "metadata": {
    "collapsed": true,
    "hide_input": false
   },
   "outputs": [],
   "source": [
    "import numpy as np\n",
    "import matplotlib.pyplot as plt\n",
    "from matplotlib import rcParams\n",
    "\n",
    "import pandas as pd\n",
    "from IPython.display import display, HTML\n",
    "\n",
    "%matplotlib inline\n",
    "rcParams.update({'axes.grid': True,'legend.fontsize': 18, 'legend.handlelength': 2, \n",
    "            'axes.labelsize':18,'axes.titlesize': 18, 'figure.figsize':(16,8)})\n",
    "\n",
    "def oppgave3():\n",
    "    maxN = 100\n",
    "    N = np.arange(1, maxN + 1)\n",
    "    data = np.empty((maxN, 2))\n",
    "\n",
    "    for i, n in enumerate(N):\n",
    "        A = np.triu(np.ones(n))\n",
    "        invA = np.linalg.inv(A)\n",
    "        \n",
    "        for k in range(2):\n",
    "            data[i, k] = np.prod(np.linalg.norm([A, invA], k + 1, axis=(1, 2)))\n",
    "            \n",
    "    fig, ax=plt.subplots(figsize=(16,8))\n",
    "    lines = ax.plot(N, data)\n",
    "    ax.update({'title':'Figur 1', 'xlabel': r'Matrisestørrelse $n$', 'ylabel':'Kondisjonstall '})\n",
    "    plt.legend(lines, (r'$\\kappa_1(A)$', r'$\\kappa_2(A)$'), loc='best')\n",
    "    plt.show()\n",
    "\n",
    "def oppgave4():\n",
    "    N=10\n",
    "    l=[]\n",
    "    for i in range(N):\n",
    "        n = 20\n",
    "        NEXPS = int(2E4)\n",
    "        \n",
    "        b = 2 * np.random.rand(n) - 1\n",
    "        A = np.triu(np.ones(n))\n",
    "        x = np.linalg.solve(A, b)\n",
    "\n",
    "        IxI, IbI = np.linalg.norm([x, b], 2, axis=1)\n",
    "        kappa2A = np.linalg.cond(A, 2)\n",
    "        db = 0.2 * np.random.rand(n, NEXPS) - 0.1  \n",
    "        dx=np.linalg.solve(A, db)                        #Solves NEXP systems by broadcasting\n",
    "        IdxI, IdbI = np.linalg.norm([dx, db], 2, axis=1) #shape=(1,n,NEXPS)\n",
    "        kappa_c = (IdxI / IxI) / (IdbI / IbI)\n",
    "\n",
    "        kappa_est = np.amax(kappa_c)\n",
    "        l.append({r'$\\kappa_2(A)$':kappa2A, r'$\\kappa_{est}(A)$' :kappa_est})\n",
    "        \n",
    "    data=pd.DataFrame(l)\n",
    "    handle=data.to_html(classes='table table-striped table-bordered',index=True)\n",
    "    display(HTML(handle))\n",
    "    \n",
    "    # print(IdxI, IdbI, sep='\\n')\n",
    "    \n",
    "    #print(kappa_est, kappa2A)"
   ]
  },
  {
   "cell_type": "markdown",
   "metadata": {
    "hide_input": false
   },
   "source": [
    "## Oppgave 1.1\n",
    "\n",
    "$\\newcommand{\\rank}[1]{ \\mathcal{Rank} \\left( #1 \\right) }\n",
    "\\newcommand{\\dimker}[1]{ \\mathcal{dim \\ Ker} \\left( #1 \\right) }\n",
    "\\newcommand{\\norm}[1]{ \\lVert #1 \\rVert }\n",
    "\\newcommand{\\abs}[1]{ \\lvert #1 \\rvert }\n",
    "\\newcommand{\\tup}[1]{ \\left( #1 \\right) }\n",
    "\\newcommand{\\defeq}{\\mathrel{\\mathop:}=}\n",
    "$\n",
    "\n",
    "[//]: # (Hacky kommentar)\n",
    "\n",
    "La $u,v \\in \\mathbb{R}^n$ være kolonnevektorer. Da er ytreproduktet av de to vektorene en matrise $A \\in \\mathbb{R}^{n \\times n}$ gitt ved \n",
    "\\begin{equation}\\label{eq:outerProd}\n",
    "A= u \\oplus v = uv^T\n",
    "\\end{equation}\n",
    "\n",
    "Vi ønsker å finne \n",
    "\\begin{equation}\\label{eq:twoNorm}\n",
    "\\lVert A \\rVert_2=\\sqrt{\\rho \\left( A^TA \\right)}=\\sqrt{\\rho \\left( vu^Tuv^T \\right)}=\\norm{u}_2 \\sqrt{\\rho \\left( vv^T \\right)}\n",
    "\\end{equation}\n",
    "der vi ser at $\\rank{vv^T}=1$ som følge av at radene er innbyrdes proporsjonale:\n",
    "\\begin{equation}\\label{eq:}\n",
    "vv^T=\n",
    "\\begin{bmatrix}\n",
    "    v_1 v^T    \\\\\n",
    "    v_2 v^T    \\\\\n",
    "    \\vdots \\\\\n",
    "    v_n v^T   \n",
    "\\end{bmatrix}\n",
    "\\end{equation}\n",
    "\n",
    "Dette må nødvendigvis innebære at $\\dimker{vv^T}=n-1$, slik at $vv^T$ har egenverdi $0$ med geometrisk multiplisitet $\\gamma(0)=n-1$, som betyr at hvertfall $n-1$ av egenverdiene må være lik $0$.  Den siste egenverdien kan finnes ved å la $v$ være egenvektor:\n",
    "\n",
    "$$vv^Tv=(v \\cdot v) v= \\norm{v}_2^2v$$    \n",
    "slik at $\\norm{v}_2^2>0$ vil være den siste distinkte egenverdien for $v\\ne 0$. Ettersom normen i likning \\eqref{eq:twoNorm} følger ved bruk av vanlig euklidsk vektornorm i det trivielle tilfellet, kan vi anta $v\\ne 0$.\n",
    "Ved å benytte at \n",
    "\\begin{equation}\\label{eq:trace}\n",
    "    \\mathcal{Trace}\\left( vv^T \\right)=\\sum_{i=1}^{n} v_i^2=\\sum_{i=1}^{n}\\lambda_i=\\norm{v}_2^2 \n",
    "    = \\underset{\\lambda \\in \\sigma \\tup{vv^T}}{\\mathcal{max}}\n",
    "\\abs{\\lambda}=\\rho \\left( vv^T \\right)\n",
    "\\end{equation}\n",
    "følger det fra likning \\eqref{eq:twoNorm} at\n",
    "\n",
    "\\begin{equation}\n",
    "\\norm{A}_2=\\norm{u}_2\\norm{v}_2\n",
    "\\end{equation}\n",
    "\n",
    "\n",
    "\n"
   ]
  },
  {
   "cell_type": "markdown",
   "metadata": {},
   "source": [
    "## Oppgave 1.2\n",
    "\n",
    "For en symmetrisk matrise vil $A=A^T$ medføre at $\\rho \\tup{A^TA} =\\rho\\tup{A^2}=\\rho^{\\ 2}\\tup{A}$, slik at \n",
    "\n",
    "\\begin{equation}\\label{eq:absLam}\n",
    "\\norm{A}_2=\\sqrt{\\rho \\tup{A^TA}}=\\abs{\\rho \\tup{A}}= \\mathcal{max}_{\\lambda \\in \\sigma\\tup{A}} \\abs{\\lambda} \\defeq \\abs{\\lambda_{max}}\n",
    "\\end{equation}\n",
    "\n",
    "Siden $Ax=\\lambda x$ er ekvivalent med $A^{-1}x=\\frac{1}{\\lambda}x$, er det klart at $1/\\lambda \\ne 0$ vil være en egenverdi av $A^{-1}$ for samme $x$ som er egenvektor av A. Siden $\\tup{A^{-1}}^T=\\tup{A^T}^{-1}=A^{-1}$ er\n",
    "\\begin{equation}\\label{eq:invLam}\n",
    "\\norm{A^{-1}}_2=\\abs{\\rho \\tup{A^{-1}} }=\\underset{\\lambda \\in \\sigma \\tup{A^{-1}}}{\\mathcal{max}}\n",
    "\\abs{\\lambda}=\\underset{\\lambda \\in \\sigma \\tup{A}}{\\mathcal{max}} \\left| \\frac{1}{\\lambda}\\right|=\\frac{1}{  \\underset{\\lambda \\in \\sigma \\tup{A}}{\\mathcal{min}}\\abs{\\lambda}} \\defeq \\frac{1}{\\abs{\\lambda_{min}}}\n",
    "\\end{equation}\n",
    "Fra dette følger det at \n",
    "\\begin{equation}\\label{eq:kappa2}\n",
    "\\kappa_2 \\tup{A}=\\norm{A}_2 \\norm{A^{-1}}_2=\\left|\\frac{\\lambda_{max}}{\\lambda_{min}} \\right|\n",
    "\\end{equation}\n",
    "\n"
   ]
  },
  {
   "cell_type": "markdown",
   "metadata": {
    "hide_input": false
   },
   "source": [
    "## Oppgave 1.3\n",
    "\n",
    "Vi betrakter matrisen $A \\in \\mathbb{R}^{n \\times n}$\n",
    "\\begin{equation}\\label{eq:upperA}\n",
    "A=\n",
    "\\begin{bmatrix}\n",
    " &1         &  &               &                  & \\\\\n",
    " &0         &1 &               & {\\huge \\quad  1} & \\\\\n",
    " &          &0 &1              &                  & \\\\\n",
    " &{\\huge 0} &  &\\ddots         &\\ddots            & \\\\ \n",
    "\\end{bmatrix}\n",
    "\\end{equation}\n",
    "\n",
    "$A$ har $n$ lineært uavhengige kolonner, slik at det eksisterer en $A^{-1}=\\left[c_1 \\dots c_n \\right]$ som gir $AA^{-1}=\\left[ A c_1 \\dots A c_n \\right]=I=\\left[ e_1 \\dots e_n \\right]$. Ved å sammenlikne kolonnevektorer $Ac_k=e_k$ nedenfra og opp får vi\n",
    "\n",
    "\\begin{equation}\\label{eq:colEq}\n",
    "\\begin{bmatrix}\n",
    " \\sum_{i=1}^{n} \\tup{c_k}_i    \\\\\n",
    "  \\\\\n",
    " \\vdots    \\\\\n",
    " \\sum_{i=k}^{n}\\tup{c_k}_i \\\\\n",
    "  \\vdots    \\\\\n",
    "  \\\\\n",
    " \\sum_{i=n}^{n}\\tup{c_k}_i \\\\\n",
    "\\end{bmatrix}\n",
    " =\n",
    "\\begin{bmatrix}\n",
    "    0    \\\\\n",
    "    \\vdots    \\\\\n",
    "    0 \\\\\n",
    "    1 \\\\\n",
    "    0 \\\\ \n",
    "    \\vdots    \\\\\n",
    "    0\n",
    "\\end{bmatrix}\n",
    "\\end{equation}\n",
    "\n",
    "Her er $\\tup{c_k}_i$ element $a^{-1}_{ik}$, og vi ser at vi må ha $\\tup{c_k}_n=\\tup{c_k}_{n-1}=\\dots=\\tup{c_k}_{k+1}=0$.\n",
    "$\\tup{c_k}_k=1$, og for $k\\ge 2$ gir raden over at $\\tup{c_k}_{k-1}=-\\tup{c_k}_k=-1$. Disse to elementene vil kanselere hverandre i de øvrige summene, slik at $\\tup{c_k}_{k-2}=\\dots=\\tup{c_k}_1=0$. Av dette er det klart at $A^{-1}=\\mathcal{bidiag_n} \\tup{1,-1}$,  \n",
    "der $1$ og $-1$  henholdsvis fyller hoveddiagonalen og diagonalen over.\n",
    "\n",
    "Av diagonalelementene er det lett å se at $\\sigma\\tup{A}=\\{1\\}=\\sigma \\tup{A^{-1}}$. Følgelig må $\\lambda_{max}=\\lambda_{min}=1=\\left| \\frac{\\large\\lambda_{max}}{\\large\\lambda_{min}} \\right|$.  \n",
    "Videre er\n",
    "$$\\norm{A}_1=\\underset{j}{\\mathcal{max}} \\sum_{i=1}^{n}\\abs{a_{ij}}=n=\\underset{i}{\\mathcal{max}} \\sum_{j=1}^{n}\\abs{a_{ij}}=\\norm{A}_{\\infty}$$\n",
    "og\n",
    "$$\\norm{A^{-1}}_1=\\underset{j}{\\mathcal{max}} \\sum_{i=1}^{n}\\abs{a_{ij}^{-1}}=2=\\underset{i}{\\mathcal{max}}\\sum_{j=1}^{n}\\abs{a_{ij}^{-1}}=\\norm{A^{-1}}_{\\infty}$$\n",
    "\n",
    "slik at \n",
    "\\begin{equation}\\label{eq:kappas}\n",
    "\\kappa_1 \\tup{A}=2n=\\kappa_{\\infty}\\tup{A}\n",
    "\\end{equation}\n",
    "\n"
   ]
  },
  {
   "cell_type": "code",
   "execution_count": 71,
   "metadata": {
    "hide_input": false
   },
   "outputs": [
    {
     "data": {
      "image/png": "[encoded data removed]",
      "text/plain": [
       "<Figure size 1152x576 with 1 Axes>"
      ]
     },
     "metadata": {},
     "output_type": "display_data"
    }
   ],
   "source": [
    "oppgave3()"
   ]
  },
  {
   "cell_type": "markdown",
   "metadata": {},
   "source": [
    "Figur 1 viser utviklingen av $\\kappa_1(A)$ og $\\kappa_2(A)$ for ulike matrisestørrelser $n \\in [1,100]$. Som forventet går $\\kappa_1(A)$ i henhold til likning \\eqref{eq:kappas}. $\\kappa_2(A)$ følger samme trend som $\\kappa_1(A)$, men kondisjonstallet er ca. $40$% lavere. Den lineære stigningen fraviker opplagt fra konstantverdien $1$ som likning \\eqref{eq:kappa2} tilskriver en symmetrisk matrise."
   ]
  },
  {
   "cell_type": "markdown",
   "metadata": {},
   "source": [
    "## Oppgave 1.4"
   ]
  },
  {
   "cell_type": "code",
   "execution_count": 249,
   "metadata": {
    "scrolled": true
   },
   "outputs": [
    {
     "data": {
      "text/html": [
       "<table border=\"1\" class=\"dataframe table table-striped table-bordered center text-align center\">\n",
       "  <thead>\n",
       "    <tr style=\"text-align: right;\">\n",
       "      <th></th>\n",
       "      <th>$\\kappa_2(A)$</th>\n",
       "      <th>$\\kappa_{est}(A)$</th>\n",
       "    </tr>\n",
       "  </thead>\n",
       "  <tbody>\n",
       "    <tr>\n",
       "      <th>0</th>\n",
       "      <td>26.031192</td>\n",
       "      <td>1.573645</td>\n",
       "    </tr>\n",
       "    <tr>\n",
       "      <th>1</th>\n",
       "      <td>26.031192</td>\n",
       "      <td>1.301530</td>\n",
       "    </tr>\n",
       "    <tr>\n",
       "      <th>2</th>\n",
       "      <td>26.031192</td>\n",
       "      <td>1.619118</td>\n",
       "    </tr>\n",
       "    <tr>\n",
       "      <th>3</th>\n",
       "      <td>26.031192</td>\n",
       "      <td>1.237684</td>\n",
       "    </tr>\n",
       "    <tr>\n",
       "      <th>4</th>\n",
       "      <td>26.031192</td>\n",
       "      <td>1.201659</td>\n",
       "    </tr>\n",
       "    <tr>\n",
       "      <th>5</th>\n",
       "      <td>26.031192</td>\n",
       "      <td>1.400668</td>\n",
       "    </tr>\n",
       "    <tr>\n",
       "      <th>6</th>\n",
       "      <td>26.031192</td>\n",
       "      <td>1.633443</td>\n",
       "    </tr>\n",
       "    <tr>\n",
       "      <th>7</th>\n",
       "      <td>26.031192</td>\n",
       "      <td>1.334107</td>\n",
       "    </tr>\n",
       "    <tr>\n",
       "      <th>8</th>\n",
       "      <td>26.031192</td>\n",
       "      <td>1.170515</td>\n",
       "    </tr>\n",
       "    <tr>\n",
       "      <th>9</th>\n",
       "      <td>26.031192</td>\n",
       "      <td>1.170635</td>\n",
       "    </tr>\n",
       "  </tbody>\n",
       "</table>"
      ],
      "text/plain": [
       "<IPython.core.display.HTML object>"
      ]
     },
     "metadata": {},
     "output_type": "display_data"
    }
   ],
   "source": [
    "oppgave4()"
   ]
  },
  {
   "cell_type": "markdown",
   "metadata": {},
   "source": [
    "Den relative feilen i forward error har en øvre grense gitt ved \n",
    "\\begin{equation}\\label{eq:upperBoundA}\n",
    "\\frac{\\norm{\\delta x}_2}{\\norm{x}_2} \\le \\frac{\\kappa_2(A)}{1-\\kappa_2(A) \\frac{\\norm{\\delta A}_2}{\\norm{A}_2}} \\left( \\frac{\\norm{\\delta b}_2}{\\norm{b}_2}+\\frac{\\norm{\\delta A}_2}{\\norm{A}_2}   \\right)\n",
    "\\end{equation}\n",
    "\n",
    "som videre reduseres til ulikhet \\eqref{eq:upperBound} i tilfellet $\\delta A=0$:\n",
    "\\begin{equation}\\label{eq:upperBound}\n",
    "\\frac{\\norm{\\delta x}_2}{\\norm{x}_2} \\le \\kappa_2(A) \\frac{\\norm{\\delta b}_2}{\\norm{b}_2}\n",
    "\\end{equation}\n",
    "\n",
    "Vi ser nærmere på dette forholdet ved å studere den ekvivalente ulikheten $\\frac{ \\norm{\\delta x}_2 / \\norm{x}_2}{\\norm{\\delta b}_2 / \\norm{b}_2} \\defeq \\kappa_{est}(A) \\le \\kappa_2(A)$. Forholdet mellom relativ forward- og backward error er kjent som en error magnification factor, ettersom forholdet spår hvor mye $x$ endres som følge av perturbasjoner i $b$ for en fast matrise $A$. \n",
    "Tabellen viser $\\kappa_{2}(A)$ og$\\kappa_{est}(A)$ som resulterte fra 10 forskjellige simuleringer med $n=20$ og $NEXPS=2000$. Vi ser at $\\kappa_{est}$ på det meste utgjør ca. $6$% av $\\kappa_2(A)$, slik at ulikheten trygt kan sies å holde. Teorien forventer at $\\kappa_2(A)$ vil være maksimumet av $\\kappa_{est}$ over alle $b$. "
   ]
  }
 ],
 "metadata": {
  "anaconda-cloud": {},
  "author": "me",
  "kernelspec": {
   "display_name": "Python 3",
   "language": "python",
   "name": "python3"
  },
  "latex_envs": {
   "LaTeX_envs_menu_present": true,
   "autoclose": true,
   "autocomplete": true,
   "bibliofile": "biblio.bib",
   "cite_by": "apalike",
   "current_citInitial": 1,
   "eqLabelWithNumbers": true,
   "eqNumInitial": 1,
   "hotkeys": {
    "equation": "Ctrl-E",
    "itemize": "Ctrl-I"
   },
   "labels_anchors": false,
   "latex_user_defs": false,
   "report_style_numbering": false,
   "user_envs_cfg": false
  },
  "toc": {
   "nav_menu": {
    "height": "92px",
    "width": "242px"
   },
   "number_sections": false,
   "sideBar": true,
   "skip_h1_title": false,
   "title_cell": "Table of Contents",
   "title_sidebar": "Contents",
   "toc_cell": false,
   "toc_position": {},
   "toc_section_display": true,
   "toc_window_display": true
  },
  "varInspector": {
   "cols": {
    "lenName": 16,
    "lenType": 16,
    "lenVar": 40
   },
   "kernels_config": {
    "python": {
     "delete_cmd_postfix": "",
     "delete_cmd_prefix": "del ",
     "library": "var_list.py",
     "varRefreshCmd": "print(var_dic_list())"
    },
    "r": {
     "delete_cmd_postfix": ") ",
     "delete_cmd_prefix": "rm(",
     "library": "var_list.r",
     "varRefreshCmd": "cat(var_dic_list()) "
    }
   },
   "types_to_exclude": [
    "module",
    "function",
    "builtin_function_or_method",
    "instance",
    "_Feature"
   ],
   "window_display": false
  }
 },
 "nbformat": 4,
 "nbformat_minor": 2
}
